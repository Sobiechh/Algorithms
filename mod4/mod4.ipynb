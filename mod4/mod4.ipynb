{
 "cells": [
  {
   "cell_type": "markdown",
   "metadata": {},
   "source": [
    "# 1. Knuth-Morris-Pratt"
   ]
  },
  {
   "cell_type": "code",
   "execution_count": 2,
   "metadata": {},
   "outputs": [
    {
     "name": "stdout",
     "output_type": "stream",
     "text": [
      "[0, 1, 2, 3, 4, 5, 6]\n",
      "[9]\n",
      "[1, 8]\n",
      "all test pass\n"
     ]
    }
   ],
   "source": [
    "class KMP:\n",
    "    def partial(self, pattern):\n",
    "        \"\"\" tablica indexów błędów\"\"\"\n",
    "        ret = [0]\n",
    "        \n",
    "        for i in range(1, len(pattern)):\n",
    "            j = ret[i - 1]\n",
    "            while j > 0 and pattern[j] != pattern[i]:\n",
    "                j = ret[j - 1]\n",
    "            ret.append(j + 1 if pattern[j] == pattern[i] else j)\n",
    "        return ret\n",
    "        \n",
    "    def search(self, T, P):\n",
    "        \"\"\" \n",
    "        Zwraca wszysktie mozliwe indexy \n",
    "        \"\"\"\n",
    "        partial, ret, j = self.partial(P), [], 0\n",
    "        \n",
    "        for i in range(len(T)):\n",
    "            while j > 0 and T[i] != P[j]:\n",
    "                j = partial[j - 1]     \n",
    "            if T[i] == P[j]: \n",
    "                j += 1\n",
    "            if j == len(P): \n",
    "                ret.append(i - (j - 1))\n",
    "                j = partial[j - 1]\n",
    "            \n",
    "        return ret\n",
    "\n",
    "\n",
    "\n",
    "\n",
    "kmp = KMP()\n",
    "\n",
    "p1 = \"aa\"\n",
    "t1 = \"aaaaaaaa\"\n",
    "\n",
    "print(kmp.search(t1, p1)) # [0, 1, 2, 3, 4, 5, 6]\n",
    "\n",
    "\n",
    "\n",
    "p2 = \"abc\"\n",
    "t2 = \"abdabeabfabc\"\n",
    "\n",
    "print(kmp.search(t2, p2)) # [9]\n",
    "\n",
    "\n",
    "\n",
    "p3 = \"aab\"\n",
    "t3 = \"aaabaacbaab\"\n",
    "\n",
    "print(kmp.search(t3, p3)) # [1, 8]\n",
    "\n"
   ]
  },
  {
   "cell_type": "markdown",
   "metadata": {},
   "source": [
    "# 2. Boyer-Moore"
   ]
  },
  {
   "cell_type": "code",
   "execution_count": 5,
   "metadata": {},
   "outputs": [
    {
     "name": "stdout",
     "output_type": "stream",
     "text": [
      "Found at 0\n",
      "Found at 9\n",
      "Found at 1\n"
     ]
    }
   ],
   "source": [
    "class BoyerMoore:\n",
    "    def __init__(self, text, pattern):\n",
    "        self.text = text\n",
    "        self.pattern = pattern\n",
    "        self.m = len(pattern)\n",
    "        self.n = len(text)\n",
    "        self.skip = []\n",
    "        for i in range(256): self.skip.append(-1)\n",
    "        for i in range(self.m): self.skip[ord(pattern[i])] = self.m\n",
    "\n",
    "    def search(self):\n",
    "        for i in range(self.n + self.m + 1):\n",
    "            skip = 0\n",
    "            for j in range(self.m-1, -1, -1):\n",
    "                if self.text[i+j] != self.pattern[j]:\n",
    "                    skip = j - self.skip[ord(self.text[i+j])]\n",
    "                    if skip < 1: skip = 1\n",
    "                    break\n",
    "\n",
    "            if skip == 0:\n",
    "                print(f\"Znaleziono na indexie: {i}\")\n",
    "                return\n",
    "\n",
    "            i += skip\n",
    "\n",
    "        print(\"Brak w przykładu w tekście\")\n",
    "        return\n",
    "\n",
    "\n",
    "p1 = \"aa\"\n",
    "t1 = \"aaaaaaaa\"\n",
    "bm = BoyerMoore(t1, p1)\n",
    "bm.search()\n",
    "\n",
    "p2 = \"abc\"\n",
    "t2 = \"abdabeabfabc\"\n",
    "bm = BoyerMoore(t2,p2)\n",
    "bm.search()\n",
    "\n",
    "p3 = \"aab\"\n",
    "t3 = \"aaabaacbaab\"\n",
    "bm = BoyerMoore(t3,p3)\n",
    "bm.search()"
   ]
  },
  {
   "cell_type": "markdown",
   "metadata": {},
   "source": [
    "# 3. Karpa-Rabina"
   ]
  },
  {
   "cell_type": "code",
   "execution_count": 11,
   "metadata": {},
   "outputs": [
    {
     "name": "stdout",
     "output_type": "stream",
     "text": [
      "0\n",
      "9\n",
      "1\n"
     ]
    }
   ],
   "source": [
    "class RollingHash:\n",
    "    def __init__(self, string, size):\n",
    "        self.str  = string\n",
    "        self.hash = 0\n",
    "        \n",
    "        for i in range(0, size):\n",
    "            self.hash += ord(self.str[i])\n",
    "        \n",
    "        self.init = 0\n",
    "        self.end  = size\n",
    "        \n",
    "    def update(self):\n",
    "        if self.end <= len(self.str) -1:\n",
    "            self.hash -= ord(self.str[self.init])\n",
    "            self.hash += ord(self.str[self.end])\n",
    "            self.init += 1\n",
    "            self.end  += 1\n",
    "            \n",
    "    def digest(self):\n",
    "        return self.hash\n",
    "\n",
    "    def text(self):\n",
    "        return self.str[self.init:self.end]\n",
    "\n",
    "\n",
    "\n",
    "def rabin_karp(substring, string):\n",
    "    if substring == None or string == None:\n",
    "        return -1\n",
    "    if substring == \"\" or string == \"\":\n",
    "        return -1\n",
    "\n",
    "    if len(substring) > len(string):\n",
    "        return -1\n",
    "\n",
    "    hs \t = RollingHash(string, len(substring))\n",
    "    hsub = RollingHash(substring, len(substring))\n",
    "    hsub.update()\n",
    "        \n",
    "    for i in range(len(string)-len(substring)+1):\n",
    "        if hs.digest() == hsub.digest():\n",
    "            if hs.text() == substring:\n",
    "                return i\n",
    "        hs.update()\n",
    "\n",
    "    return -1\n",
    "\n",
    "\n",
    "p1 = \"aa\"\n",
    "t1 = \"aaaaaaaa\"\n",
    "print(rabin_karp(p1,t1))\n",
    "\n",
    "p2 = \"abc\"\n",
    "t2 = \"abdabeabfabc\"\n",
    "print(rabin_karp(p2,t2))\n",
    "\n",
    "p3 = \"aab\"\n",
    "t3 = \"aaabaacbaab\"\n",
    "print(rabin_karp(p3,t3))"
   ]
  },
  {
   "cell_type": "code",
   "execution_count": null,
   "metadata": {},
   "outputs": [],
   "source": []
  }
 ],
 "metadata": {
  "kernelspec": {
   "display_name": "Python 3",
   "language": "python",
   "name": "python3"
  },
  "language_info": {
   "codemirror_mode": {
    "name": "ipython",
    "version": 3
   },
   "file_extension": ".py",
   "mimetype": "text/x-python",
   "name": "python",
   "nbconvert_exporter": "python",
   "pygments_lexer": "ipython3",
   "version": "3.7.4"
  }
 },
 "nbformat": 4,
 "nbformat_minor": 4
}
