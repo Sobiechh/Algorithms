{
 "cells": [
  {
   "cell_type": "markdown",
   "metadata": {},
   "source": [
    "# Kod Cezara"
   ]
  },
  {
   "cell_type": "code",
   "execution_count": 2,
   "metadata": {},
   "outputs": [
    {
     "name": "stdout",
     "output_type": "stream",
     "text": [
      "Słowo: ALA\n",
      "Zaszyfrowane: BMB\n",
      "Odszyfrowane: ALA\n",
      "\n",
      "\n",
      "Słowo: MA\n",
      "Zaszyfrowane: NB\n",
      "Odszyfrowane: MA\n",
      "\n",
      "\n",
      "Słowo: KOTA\n",
      "Zaszyfrowane: LPUB\n",
      "Odszyfrowane: KOTA\n",
      "\n",
      "\n",
      "Słowo: MA\n",
      "Zaszyfrowane: NB\n",
      "Odszyfrowane: MA\n",
      "\n",
      "\n",
      "Słowo: TEZ\n",
      "Zaszyfrowane: UFA\n",
      "Odszyfrowane: TEZ\n",
      "\n",
      "\n",
      "Słowo: PIESKA\n",
      "Zaszyfrowane: QJFTLB\n",
      "Odszyfrowane: PIESKA\n",
      "\n",
      "\n"
     ]
    }
   ],
   "source": [
    "import string\n",
    "\n",
    "class CEZARY:\n",
    "    def __init__(self, tab):\n",
    "        self.tab = tab.upper()\n",
    "\n",
    "    def cezary(self, text):\n",
    "        klucz = 1\n",
    "        alfabet = string.ascii_uppercase\n",
    "        kod = alfabet[klucz:] + alfabet[:klucz]\n",
    "        tabela = str.maketrans(alfabet, kod)\n",
    "        return text.translate(tabela)\n",
    "\n",
    "    def cezary_u(self, text):\n",
    "        klucz = 1\n",
    "        alfabet = string.ascii_uppercase\n",
    "        kod = alfabet[:klucz] + alfabet[klucz:]\n",
    "        tabela = str.maketrans(alfabet, kod)\n",
    "        return text.translate(tabela)\n",
    "\n",
    "    def __str__(self):\n",
    "        wynik = \"Słowo: \"+self.tab +\"\\n\"\n",
    "        wynik+= \"Zaszyfrowane: \" + self.cezary(self.tab) + \"\\n\"\n",
    "        wynik += \"Odszyfrowane: \" + self.cezary_u(self.tab) + \"\\n\\n\"\n",
    "        return wynik\n",
    "\n",
    "\n",
    "dane = ['Ala', 'ma', 'kota', 'ma', 'tez', 'pieska']\n",
    "\n",
    "for tekst in dane:\n",
    "    print(CEZARY(tekst))"
   ]
  },
  {
   "cell_type": "markdown",
   "metadata": {},
   "source": [
    "# kod Huffmana"
   ]
  },
  {
   "cell_type": "code",
   "execution_count": 3,
   "metadata": {},
   "outputs": [
    {
     "name": "stdout",
     "output_type": "stream",
     "text": [
      "Symbol    Waga      Huffman Kod\n",
      "          11        111\n",
      "y         5         000\n",
      "c         5         1011\n",
      "i         3         0010\n",
      "n         3         0011\n",
      "o         5         1100\n",
      "r         4         1001\n",
      "t         4         1010\n",
      "u         3         0100\n",
      "a         3         11011\n",
      "b         2         01011\n",
      "e         2         01101\n",
      "h         2         01110\n",
      "s         2         11010\n",
      "1         1         010100\n",
      "L         1         010101\n",
      "d         1         011000\n",
      "g         1         011001\n",
      "j         1         011110\n",
      "k         1         011111\n",
      "l         1         100000\n",
      "m         1         100001\n",
      "p         1         100010\n",
      "w         1         100011\n"
     ]
    }
   ],
   "source": [
    "import heapq\n",
    "from collections import defaultdict\n",
    "\n",
    "\n",
    "def koduj(frequency):\n",
    "    stos = [[weight, [symbol, \"\"]] for symbol, weight in frequency.items()]\n",
    "    heapq.heapify(stos)\n",
    "    while len(stos) > 1:\n",
    "        low = heapq.heappop(stos)\n",
    "        high = heapq.heappop(stos)\n",
    "        for para in low[1:]:\n",
    "            para[1] = \"0\" + para[1]\n",
    "        for para in high[1:]:\n",
    "            para[1] = \"1\" + para[1]\n",
    "        heapq.heappush(stos, [low[0] + high[0]] + low[1:] + high[1:])\n",
    "    return sorted(heapq.heappop(stos)[1:], key=lambda p: (len(p[-1]), p))\n",
    "\n",
    "\n",
    "dane = \"Lubie robic algorytmy i struktury danych po nocach jest 1 w nocy\"\n",
    "czestotliwosc = defaultdict(int)\n",
    "for symbol in dane:\n",
    "    czestotliwosc[symbol] += 1\n",
    "\n",
    "\n",
    "huff = koduj(czestotliwosc)\n",
    "print(\"Symbol\".ljust(10) + \"Waga\".ljust(10) + \"Huffman Kod\")\n",
    "for p in huff:\n",
    "    print(p[0].ljust(10) + str(czestotliwosc[p[0]]).ljust(10) + p[1])\n"
   ]
  },
  {
   "cell_type": "code",
   "execution_count": null,
   "metadata": {},
   "outputs": [],
   "source": [
    "#Shannon Fano"
   ]
  }
 ],
 "metadata": {
  "kernelspec": {
   "display_name": "Python 3",
   "language": "python",
   "name": "python3"
  },
  "language_info": {
   "codemirror_mode": {
    "name": "ipython",
    "version": 3
   },
   "file_extension": ".py",
   "mimetype": "text/x-python",
   "name": "python",
   "nbconvert_exporter": "python",
   "pygments_lexer": "ipython3",
   "version": "3.7.4"
  }
 },
 "nbformat": 4,
 "nbformat_minor": 4
}
