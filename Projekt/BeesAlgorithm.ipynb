{
 "cells": [
  {
   "cell_type": "code",
   "execution_count": 2,
   "metadata": {},
   "outputs": [
    {
     "name": "stdout",
     "output_type": "stream",
     "text": [
      "FINAL:\n",
      "[-0.0020282709604309626, -0.0012757544894770653]\n",
      "5.741432606348427e-06\n"
     ]
    },
    {
     "data": {
      "text/plain": [
       "<__main__.PSO at 0x2def1657c88>"
      ]
     },
     "execution_count": 2,
     "metadata": {},
     "output_type": "execute_result"
    }
   ],
   "source": [
    "from __future__ import division\n",
    "import random\n",
    "import math\n",
    "\n",
    "#funkcja podana w zadaniu\n",
    "def func(x,y):\n",
    "    total = 0\n",
    "    for i in range(-50,50): #zakres\n",
    "        total+=math.sin(x[i]**2)**2 + math.cos(y[i]**2)**2 + 2*math.cos(y[i]**2)*math.sin(x[i]**2) + 5*(x[i]+y[i])**2\n",
    "\n",
    "class Colony: #kolonia, przyjmujemy funkcje\n",
    "    def __init__(self,x0):\n",
    "        self.position_i=[]\n",
    "        self.velocity_i=[]\n",
    "        self.pos_best_i=[]\n",
    "        self.err_best_i=-1\n",
    "        self.err_i=-1     \n",
    "\n",
    "        for i in range(0,num_dimensions): #wypelniamy randomowe miejsca startowe\n",
    "            self.velocity_i.append(random.uniform(-1,1))\n",
    "            self.position_i.append(x0[i])\n",
    "\n",
    "    def evaluate(self,costFunc): #obliczamy blad\n",
    "        self.err_i=costFunc(self.position_i)\n",
    "\n",
    "        if self.err_i < self.err_best_i or self.err_best_i==-1:\n",
    "            self.pos_best_i=self.position_i\n",
    "            self.err_best_i=self.err_i\n",
    "\n",
    "    def update_velocity(self,pos_best_g): #aktualziacja\n",
    "        w=0.5 \n",
    "        c1=1  \n",
    "        c2=2  \n",
    "\n",
    "        for i in range(0,num_dimensions):\n",
    "            r1=random.random()\n",
    "            r2=random.random()\n",
    "\n",
    "            vel_cognitive=c1*r1*(self.pos_best_i[i]-self.position_i[i])\n",
    "            vel_social=c2*r2*(pos_best_g[i]-self.position_i[i])\n",
    "            self.velocity_i[i]=w*self.velocity_i[i]+vel_cognitive+vel_social\n",
    "\n",
    "    def update_position(self,bounds): # ustawienie pozycji na nowo\n",
    "        for i in range(0,num_dimensions):\n",
    "            self.position_i[i]=self.position_i[i]+self.velocity_i[i]\n",
    "\n",
    "            if self.position_i[i]>bounds[i][1]: #patrzenie na zakres\n",
    "                self.position_i[i]=bounds[i][1]\n",
    "\n",
    "            if self.position_i[i] < bounds[i][0]: #patrzenie na zakres\n",
    "                self.position_i[i]=bounds[i][0]\n",
    "\n",
    "def func1(x):\n",
    "    total=0\n",
    "    for i in range(len(x)):\n",
    "        total+=x[i]**2\n",
    "    return total\n",
    "\n",
    "class bee_alg(): #glowny algorytm programu\n",
    "    def __init__(self,costFunc,x0,bounds,num_particles,maxiter):\n",
    "        global num_dimensions\n",
    "\n",
    "        num_dimensions=len(x0)\n",
    "        err_best_g=-1  #blad na -1\n",
    "        pos_best_g=[]                  \n",
    "\n",
    "        bees=[] #pszczoly\n",
    "        for i in range(0,num_particles):\n",
    "            bees.append(Colony(x0))\n",
    "\n",
    "        i=0\n",
    "        while i < maxiter: #dopoki nie znajdziemy max\n",
    "            for j in range(0,num_particles):\n",
    "                bees[j].evaluate(costFunc)\n",
    "\n",
    "                if bees[j].err_i < err_best_g or err_best_g == -1:#jezeli pszczola wieksza niz zakres bledu\n",
    "                    pos_best_g=list(bees[j].position_i)\n",
    "                    err_best_g=float(bees[j].err_i)\n",
    "\n",
    "            for j in range(0,num_particles):\n",
    "                bees[j].update_velocity(pos_best_g)\n",
    "                bees[j].update_position(bounds)\n",
    "            i+=1\n",
    "\n",
    "        print('Max:') #ostatecznie pokazany wynik\n",
    "        print(pos_best_g)\n",
    "        print(err_best_g)\n",
    "\n",
    "\n",
    "#zakres z zadnaia\n",
    "initial=[-50,50]              \n",
    "bounds=[(-50,50),(-50,50)]  \n",
    "\n",
    "#wywolanie funkcji\n",
    "bee_alg(func1,initial,bounds,num_particles=15,maxiter=30)\n"
   ]
  },
  {
   "cell_type": "code",
   "execution_count": null,
   "metadata": {},
   "outputs": [],
   "source": []
  }
 ],
 "metadata": {
  "kernelspec": {
   "display_name": "Python 3",
   "language": "python",
   "name": "python3"
  },
  "language_info": {
   "codemirror_mode": {
    "name": "ipython",
    "version": 3
   },
   "file_extension": ".py",
   "mimetype": "text/x-python",
   "name": "python",
   "nbconvert_exporter": "python",
   "pygments_lexer": "ipython3",
   "version": "3.7.6"
  }
 },
 "nbformat": 4,
 "nbformat_minor": 4
}
