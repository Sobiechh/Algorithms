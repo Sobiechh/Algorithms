{
 "cells": [
  {
   "cell_type": "code",
   "execution_count": 18,
   "metadata": {},
   "outputs": [
    {
     "name": "stdout",
     "output_type": "stream",
     "text": [
      "0:  |F(x)| = 36.6457; step 1\n",
      "1:  |F(x)| = 0.240684; step 1\n",
      "2:  |F(x)| = 0.0575685; step 1\n"
     ]
    },
    {
     "name": "stderr",
     "output_type": "stream",
     "text": [
      "C:\\Users\\User\\anaconda3\\lib\\site-packages\\scipy\\sparse\\linalg\\dsolve\\linsolve.py:394: SparseEfficiencyWarning: splu requires CSC matrix format\n",
      "  warn('splu requires CSC matrix format', SparseEfficiencyWarning)\n"
     ]
    },
    {
     "name": "stdout",
     "output_type": "stream",
     "text": [
      "3:  |F(x)| = 3.90702e-05; step 1\n",
      "4:  |F(x)| = 9.80909e-10; step 1\n",
      "Residual 9.809086876089168e-10\n",
      "Evaluations 140\n"
     ]
    },
    {
     "data": {
      "image/png": "[encoded data removed]",
      "text/plain": [
       "<Figure size 432x288 with 2 Axes>"
      ]
     },
     "metadata": {
      "needs_background": "light"
     },
     "output_type": "display_data"
    }
   ],
   "source": [
    "import numpy as np\n",
    "from scipy.optimize import root\n",
    "from scipy.sparse import spdiags, kron\n",
    "from scipy.sparse.linalg import spilu, LinearOperator\n",
    "from numpy import cosh, zeros_like, mgrid, zeros, eye\n",
    "\n",
    "nx, ny = -50, 50\n",
    "hx, hy = 1./(nx-1), 1./(ny-1)\n",
    "\n",
    "P_left, P_right = 0, 0\n",
    "P_top, P_bottom = 1, 0\n",
    "\n",
    "def get_preconditioner():\n",
    "    diags_x = zeros((3, nx))\n",
    "    diags_x[0,:] = 1/hx/hx\n",
    "    diags_x[1,:] = -2/hx/hx\n",
    "    diags_x[2,:] = 1/hx/hx\n",
    "    Lx = spdiags(diags_x, [-1,0,1], nx, nx)\n",
    "\n",
    "    diags_y = zeros((3, ny))\n",
    "    diags_y[0,:] = 1/hy/hy\n",
    "    diags_y[1,:] = -2/hy/hy\n",
    "    diags_y[2,:] = 1/hy/hy\n",
    "    Ly = spdiags(diags_y, [-1,0,1], ny, ny)\n",
    "\n",
    "    J1 = kron(Lx, eye(ny)) + kron(eye(nx), Ly)\n",
    "\n",
    "    J1_ilu = spilu(J1)\n",
    "\n",
    "    M = LinearOperator(shape=(nx*ny, nx*ny), matvec=J1_ilu.solve)\n",
    "    return M\n",
    "\n",
    "def solve(preconditioning=True):\n",
    "    count = [0]\n",
    "\n",
    "    def residual(P):\n",
    "        count[0] += 1\n",
    "\n",
    "        d2x = zeros_like(P)\n",
    "        d2y = zeros_like(P)\n",
    "\n",
    "        d2x[1:-1] = (P[2:]   - 2*P[1:-1] + P[:-2])/hx/hx\n",
    "        d2x[0]    = (P[1]    - 2*P[0]    + P_left)/hx/hx\n",
    "        d2x[-1]   = (P_right - 2*P[-1]   + P[-2])/hx/hx\n",
    "\n",
    "        d2y[:,1:-1] = (P[:,2:] - 2*P[:,1:-1] + P[:,:-2])/hy/hy\n",
    "        d2y[:,0]    = (P[:,1]  - 2*P[:,0]    + P_bottom)/hy/hy\n",
    "        d2y[:,-1]   = (P_top   - 2*P[:,-1]   + P[:,-2])/hy/hy\n",
    "\n",
    "        return d2x + d2y + 5*cosh(P).mean()**2\n",
    "\n",
    "    if preconditioning:\n",
    "        M = get_preconditioner()\n",
    "    else:\n",
    "        M = None\n",
    "\n",
    "    guess = zeros((nx, ny), float)\n",
    "\n",
    "    sol = root(residual, guess, method='krylov',\n",
    "               options={'disp': True,\n",
    "                        'jac_options': {'inner_M': M}})\n",
    "    print('Residual', abs(residual(sol.x)).max())\n",
    "    print('Evaluations', count[0])\n",
    "\n",
    "    return sol.x\n",
    "\n",
    "def main():\n",
    "    sol = solve(preconditioning=True)\n",
    "\n",
    "    # visualize\n",
    "    import matplotlib.pyplot as plt\n",
    "    x, y = mgrid[0:1:(nx*1j), 0:1:(ny*1j)]\n",
    "    plt.clf()\n",
    "    plt.pcolor(x, y, sol)\n",
    "    plt.clim(0, 1)\n",
    "    plt.colorbar()\n",
    "    plt.show()\n",
    "\n",
    "if __name__ == \"__main__\":\n",
    "    main()"
   ]
  },
  {
   "cell_type": "code",
   "execution_count": null,
   "metadata": {},
   "outputs": [],
   "source": []
  }
 ],
 "metadata": {
  "kernelspec": {
   "display_name": "Python 3",
   "language": "python",
   "name": "python3"
  },
  "language_info": {
   "codemirror_mode": {
    "name": "ipython",
    "version": 3
   },
   "file_extension": ".py",
   "mimetype": "text/x-python",
   "name": "python",
   "nbconvert_exporter": "python",
   "pygments_lexer": "ipython3",
   "version": "3.7.6"
  }
 },
 "nbformat": 4,
 "nbformat_minor": 4
}
