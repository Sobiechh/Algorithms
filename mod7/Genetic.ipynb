{
 "cells": [
  {
   "cell_type": "code",
   "execution_count": 1,
   "metadata": {},
   "outputs": [
    {
     "name": "stdout",
     "output_type": "stream",
     "text": [
      " SUM_SQUARES'S Min  \n",
      "   x  = [0.0, -0.0, 0.0, -0.0, 0.0] \n",
      " f(x) = 0.0 \n",
      "\n",
      " WEIERSTRASS'S Min  \n",
      "   x  = [-0.5, -0.5, -0.5, -0.5, -0.5] \n",
      " f(x) = 0.0 \n",
      "\n",
      " SUM_SQUARES'S Min  \n",
      "   x  = [0.0, 0.0, 0.0, 0.0, 0.0] \n",
      " f(x) = 0.0 \n",
      "\n",
      " WEIERSTRASS'S Max  \n",
      "   x  = [8.67408, -9.59958, 7.4393, 8.86441, 8.83568] \n",
      " f(x) = 404.84568 \n",
      "\n"
     ]
    }
   ],
   "source": [
    "import random\n",
    "\n",
    "#funkcje\n",
    "def RandomNumbers(leftend, rightend, n):\n",
    "    return [random.uniform(leftend, rightend) for number in range(n)]\n",
    "\n",
    "def Crossover(first, second, leftEnd, rightEnd):\n",
    "    child = []\n",
    "    for i in range(len(first)):\n",
    "        chromosome = first[i] + random.random() * (second[i] - first[i])\n",
    "        chromosome = max(min(chromosome, rightEnd), leftEnd)\n",
    "        child.append(chromosome)\n",
    "    return child\n",
    "\n",
    "def Sum_Squares(numberList):\n",
    "    sum = 0\n",
    "    for i in range(len(numberList)): sum += (i+1) * numberList[i] ** 2\n",
    "    return sum\n",
    "\n",
    "def Weierstrass(numberList):\n",
    "    sum = 0\n",
    "    for i in range(len(numberList)): sum += (abs(numberList[i] + 0.5)) ** 2\n",
    "    return sum\n",
    "\n",
    "#algorytm\n",
    "def GeneticAlgorithm(Function, leftEnd, rightEnd, dimension, searchingMinimum = True):\n",
    "    generationCount = 100   \n",
    "    populationCount = 300      \n",
    "    population = [RandomNumbers(leftEnd, rightEnd, dimension) for i in range(populationCount)] \n",
    "\n",
    "    t = 0\n",
    "    population.sort(key=lambda x: Function(x))          \n",
    "    if searchingMinimum == False: population.reverse()  \n",
    "    \n",
    "    while t <= generationCount:\n",
    "        lambdaVector = RandomNumbers(0, 1, populationCount)\n",
    "        mutationProbability = random.random()\n",
    "        for personNumber in range(populationCount):\n",
    "            if lambdaVector[personNumber] < mutationProbability:\n",
    "                ksi = random.random()\n",
    "                for chromosome in population[personNumber]: \n",
    "                    chromosome = max(min(chromosome + ksi, rightEnd), leftEnd)\n",
    "\n",
    "        for i in range (populationCount - 1):\n",
    "            population.append(Crossover(population[i], population[i+1], leftEnd, rightEnd))\n",
    "\n",
    "        population.sort(key=lambda x: Function(x))\n",
    "        if searchingMinimum == False: population.reverse()\n",
    "        population = population[:populationCount] \n",
    "        t += 1\n",
    "\n",
    "    bestVector = population[0]\n",
    "    for x in range (len(bestVector)): bestVector[x] = round(bestVector[x], 5)\n",
    "    extremum = \"Max\" if searchingMinimum == False else \"Min\"\n",
    "    print(\"\", str(Function.__name__).upper() + \"'S\", extremum, \" \\n   x  =\", bestVector, \\\n",
    "        \"\\n f(x) =\", round(Function(bestVector), 5), \"\\n\")\n",
    "\n",
    "GeneticAlgorithm(Sum_Squares, -10, 10, 5, True)\n",
    "GeneticAlgorithm(Weierstrass, -10, 10, 5, True)\n",
    "GeneticAlgorithm(Sum_Squares, -10, 10, 5, True)\n",
    "GeneticAlgorithm(Weierstrass, -10, 10, 5, False)"
   ]
  }
 ],
 "metadata": {
  "kernelspec": {
   "display_name": "Python 3",
   "language": "python",
   "name": "python3"
  },
  "language_info": {
   "codemirror_mode": {
    "name": "ipython",
    "version": 3
   },
   "file_extension": ".py",
   "mimetype": "text/x-python",
   "name": "python",
   "nbconvert_exporter": "python",
   "pygments_lexer": "ipython3",
   "version": "3.7.6"
  }
 },
 "nbformat": 4,
 "nbformat_minor": 4
}
