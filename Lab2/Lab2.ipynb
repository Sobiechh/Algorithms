{
 "cells": [
  {
   "cell_type": "code",
   "execution_count": 6,
   "metadata": {},
   "outputs": [],
   "source": [
    "## STOS\n",
    "#dodawanie el\n",
    "#pobrac i usunac ze sgosu ostatni el\n",
    "#wyswietlenie ostatniego el\n",
    "#wyswietlenie calego stosu"
   ]
  },
  {
   "cell_type": "code",
   "execution_count": 48,
   "metadata": {
    "scrolled": true
   },
   "outputs": [
    {
     "name": "stdout",
     "output_type": "stream",
     "text": [
      "[1, 2, 3, 4, 5, 6, 7, 8, None, None]\n",
      "[1, 2, 3, 4, 5, 6, 7, 12, 13, None]\n",
      "[1, 2, 3, 4, 5, 6, 7, 12, None, None]\n"
     ]
    }
   ],
   "source": [
    "capacity = 10\n",
    "class Stack():\n",
    "    def __init__(self):\n",
    "        self.capacity = capacity\n",
    "        self.items=[None]*self.capacity\n",
    "        self.index = 0\n",
    "    \n",
    "    def __str__(self):\n",
    "        return str(self.items)\n",
    "    \n",
    "    def is_full(self):\n",
    "        return self.index >= self.capacity\n",
    "    \n",
    "    def push(self, item):\n",
    "        if not self.is_full():\n",
    "            self.items[self.index] = item\n",
    "        else:\n",
    "            print('Out of range')\n",
    "        self.index+=1\n",
    "    \n",
    "    def is_empty(self):\n",
    "        return self.items == []\n",
    "    \n",
    "    def pop(self):\n",
    "        if not self.is_empty():\n",
    "            self.items[self.index-1] = None\n",
    "        else: \n",
    "            print('Stack is empty')\n",
    "        self.index -= 1\n",
    "        \n",
    "st = Stack()\n",
    "\n",
    "st.push(1)\n",
    "st.push(2)\n",
    "st.push(3)\n",
    "st.push(4)\n",
    "st.push(5)\n",
    "st.push(6)\n",
    "st.push(7)\n",
    "st.push(8)\n",
    "print(st)\n",
    "st.pop()\n",
    "st.push(12)\n",
    "st.push(13)\n",
    "print(st)\n",
    "st.pop()\n",
    "print(st)"
   ]
  },
  {
   "cell_type": "code",
   "execution_count": null,
   "metadata": {},
   "outputs": [],
   "source": [
    "# KOLEJKA"
   ]
  },
  {
   "cell_type": "code",
   "execution_count": 46,
   "metadata": {},
   "outputs": [
    {
     "name": "stdout",
     "output_type": "stream",
     "text": [
      "[1, 5, 3, 6, -2, None, None, None, None, None]\n",
      "1 is removed\n",
      "[5, 3, 6, -2, None, None, None, None, None, None]\n",
      "5 is removed\n",
      "[3, 6, -2, None, None, None, None, None, None, None]\n",
      "3 is removed\n",
      "[6, -2, None, None, None, None, None, None, None, None]\n",
      "[6, -2, 12, None, None, None, None, None, None, None]\n",
      "[6, -2, 12, 23, None, None, None, None, None, None]\n",
      "[6, -2, 12, 23, 1, 11, 123, None, None, None]\n",
      "[6, -2, 12, 23, 1, 11, 123, None, None, None]\n",
      "6 is removed\n",
      "-2 is removed\n",
      "[12, 23, 1, 11, 123, None, None, None, None, None]\n"
     ]
    }
   ],
   "source": [
    "capacity = 10\n",
    "class Queue():\n",
    "    def __init__(self):\n",
    "        self.capacity = capacity\n",
    "        self.items=[None]*self.capacity\n",
    "        self.size = 0\n",
    "        self.front = 0\n",
    "        self.rear = 0\n",
    "    \n",
    "    def __str__(self):\n",
    "        return str(self.items[self.front:]+[None]*self.front)\n",
    "    \n",
    "    def is_full(self):\n",
    "        return self.size == self.capacity\n",
    "    \n",
    "    def is_empty(self):\n",
    "        return self.items == []\n",
    "   \n",
    "    def enqueue(self, data):\n",
    "        if not self.is_full():\n",
    "            self.items[self.rear] = data\n",
    "            self.rear = int((self.rear + 1) % self.capacity)\n",
    "            self.size += 1\n",
    "        else:\n",
    "            print('Queue is full')\n",
    "\n",
    "    def dequeue(self):\n",
    "        if not self.is_empty():\n",
    "            print(self.items[self.front], 'is removed')\n",
    "            self.front = int((self.front + 1) % self.capacity)\n",
    "            self.size -= 1\n",
    "        else:\n",
    "            print('Queue is empty')\n",
    "            \n",
    "q = Queue()\n",
    "\n",
    "q.enqueue(1)\n",
    "q.enqueue(5)\n",
    "q.enqueue(3)\n",
    "q.enqueue(6)\n",
    "q.enqueue(-2)\n",
    "print(q)\n",
    "q.dequeue()\n",
    "print(q)\n",
    "q.dequeue()\n",
    "print(q)\n",
    "q.dequeue()\n",
    "print(q)\n",
    "q.enqueue(12)\n",
    "print(q)\n",
    "q.enqueue(23)\n",
    "print(q)\n",
    "q.enqueue(1)\n",
    "q.enqueue(11)\n",
    "q.enqueue(123)\n",
    "print(q)\n",
    "q.enqueue(242)\n",
    "q.enqueue(6)\n",
    "q.enqueue(75)\n",
    "print(q)\n",
    "q.dequeue()\n",
    "q.dequeue()\n",
    "print(q)"
   ]
  },
  {
   "cell_type": "code",
   "execution_count": 51,
   "metadata": {},
   "outputs": [
    {
     "name": "stdout",
     "output_type": "stream",
     "text": [
      "[(5, 'haha'), (3, 'hehe')]\n",
      "[(5, 'haha'), (1, 'hehe'), (3, 'hehe')]\n"
     ]
    }
   ],
   "source": [
    "class PriorityQueue:\n",
    "    def __init__(self):\n",
    "        self.PQueue = []\n",
    "\n",
    "    def __str__(self):\n",
    "        if self.isEmpty():\n",
    "            return \"Kolejka jest pusta\"\n",
    "        else:\n",
    "            return str(self.PQueue)\n",
    "\n",
    "    def isEmpty(self):\n",
    "        if len(self.PQueue) == 0:\n",
    "            return True\n",
    "        else:\n",
    "            return False\n",
    "\n",
    "    def Front(self):\n",
    "        return self.PQueue[0]\n",
    "\n",
    "    def Size(self):\n",
    "        return len(self.PQueue)\n",
    "\n",
    "    def Push(self, end, prio):\n",
    "        if not self.isEmpty():\n",
    "            for i in range(len(self.PQueue)):\n",
    "                if self.PQueue[i][1] >prio:\n",
    "                    self.PQueue.insert(i, (end, prio))\n",
    "                    break\n",
    "                elif self.PQueue[i][1] == prio:\n",
    "                    if self.PQueue[i][0] > end:\n",
    "                        self.PQueue.insert(i, (end, prio))\n",
    "                        break\n",
    "                    elif self.PQueue[i][0] == end:\n",
    "                        print(\"Taki element już istnieje\")\n",
    "                        break\n",
    "                elif i == len(self.PQueue)-1: self.PQueue.append((end, prio))\n",
    "        else:\n",
    "            self.PQueue.append((end, prio))\n",
    "\n",
    "    def Pop(self):\n",
    "        if self.isEmpty():\n",
    "            return print(\"Kolejka jest pusta\")\n",
    "        else:\n",
    "            self.PQueue.pop(len(self.PQueue)-1)\n",
    "\n",
    "q = PriorityQueue()\n",
    "\n",
    "q.Push(3,'hehe')\n",
    "q.Push(5,'haha')\n",
    "print(q)\n",
    "q.Push(1,'hehe')\n",
    "print(q)\n"
   ]
  },
  {
   "cell_type": "code",
   "execution_count": null,
   "metadata": {},
   "outputs": [],
   "source": []
  },
  {
   "cell_type": "code",
   "execution_count": null,
   "metadata": {},
   "outputs": [],
   "source": []
  }
 ],
 "metadata": {
  "kernelspec": {
   "display_name": "Python 3",
   "language": "python",
   "name": "python3"
  },
  "language_info": {
   "codemirror_mode": {
    "name": "ipython",
    "version": 3
   },
   "file_extension": ".py",
   "mimetype": "text/x-python",
   "name": "python",
   "nbconvert_exporter": "python",
   "pygments_lexer": "ipython3",
   "version": "3.7.4"
  }
 },
 "nbformat": 4,
 "nbformat_minor": 4
}
