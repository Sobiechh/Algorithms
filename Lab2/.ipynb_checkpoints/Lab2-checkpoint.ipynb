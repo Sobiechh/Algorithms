{
 "cells": [
  {
   "cell_type": "code",
   "execution_count": 6,
   "metadata": {},
   "outputs": [],
   "source": [
    "## STOS\n",
    "#dodawanie el\n",
    "#pobrac i usunac ze sgosu ostatni el\n",
    "#wyswietlenie ostatniego el\n",
    "#wyswietlenie calego stosu"
   ]
  },
  {
   "cell_type": "code",
   "execution_count": 48,
   "metadata": {
    "scrolled": true
   },
   "outputs": [
    {
     "name": "stdout",
     "output_type": "stream",
     "text": [
      "[1, 2, 3, 4, 5, 6, 7, 8, None, None]\n",
      "[1, 2, 3, 4, 5, 6, 7, 12, 13, None]\n",
      "[1, 2, 3, 4, 5, 6, 7, 12, None, None]\n"
     ]
    }
   ],
   "source": [
    "capacity = 10\n",
    "class Stack():\n",
    "    def __init__(self):\n",
    "        self.capacity = capacity\n",
    "        self.items=[None]*self.capacity\n",
    "        self.index = 0\n",
    "    \n",
    "    def __str__(self):\n",
    "        return str(self.items)\n",
    "    \n",
    "    def is_full(self):\n",
    "        return self.index >= self.capacity\n",
    "    \n",
    "    def push(self, item):\n",
    "        if not self.is_full():\n",
    "            self.items[self.index] = item\n",
    "        else:\n",
    "            print('Out of range')\n",
    "        self.index+=1\n",
    "    \n",
    "    def is_empty(self):\n",
    "        return self.items == []\n",
    "    \n",
    "    def pop(self):\n",
    "        if not self.is_empty():\n",
    "            self.items[self.index-1] = None\n",
    "        else: \n",
    "            print('Stack is empty')\n",
    "        self.index -= 1\n",
    "        \n",
    "st = Stack()\n",
    "\n",
    "st.push(1)\n",
    "st.push(2)\n",
    "st.push(3)\n",
    "st.push(4)\n",
    "st.push(5)\n",
    "st.push(6)\n",
    "st.push(7)\n",
    "st.push(8)\n",
    "print(st)\n",
    "st.pop()\n",
    "st.push(12)\n",
    "st.push(13)\n",
    "print(st)\n",
    "st.pop()\n",
    "print(st)"
   ]
  },
  {
   "cell_type": "code",
   "execution_count": null,
   "metadata": {},
   "outputs": [],
   "source": [
    "# KOLEJKA"
   ]
  },
  {
   "cell_type": "code",
   "execution_count": 69,
   "metadata": {},
   "outputs": [
    {
     "name": "stdout",
     "output_type": "stream",
     "text": [
      "1 is removed\n",
      "5 is removed\n",
      "3 is removed\n",
      "[6, -2, None, None, None, None, None, None, None, None]\n"
     ]
    }
   ],
   "source": [
    "capacity = 10\n",
    "class Queue():\n",
    "    def __init__(self):\n",
    "        self.capacity = capacity\n",
    "        self.items=[None]*self.capacity\n",
    "        self.size = 0\n",
    "        self.front = 0\n",
    "        self.rear = 0\n",
    "    \n",
    "    def __str__(self):\n",
    "        return str(self.items[self.front:]+[None]*self.front)\n",
    "    \n",
    "    def is_full(self):\n",
    "        return self.size == self.capacity\n",
    "    \n",
    "    def is_empty(self):\n",
    "        return self.items == []\n",
    "   \n",
    "    def enqueue(self, data):\n",
    "        if not self.is_full():\n",
    "            self.items[self.rear] = data\n",
    "            self.rear = int((self.rear + 1) % self.capacity)\n",
    "            self.size += 1\n",
    "        else:\n",
    "            print('Queue is full')\n",
    "\n",
    "    def dequeue(self):\n",
    "        if not self.is_empty():\n",
    "            print(self.items[self.front], 'is removed')\n",
    "            self.front = int((self.front + 1) % self.capacity)\n",
    "            self.size -= 1\n",
    "        else:\n",
    "            print('Queue is empty')\n",
    "            \n",
    "q = Queue()\n",
    "\n",
    "q.enqueue(1)\n",
    "q.enqueue(5)\n",
    "q.enqueue(3)\n",
    "q.enqueue(6)\n",
    "q.enqueue(-2)\n",
    "q.dequeue()\n",
    "q.dequeue()\n",
    "q.dequeue()\n",
    "\n",
    "print(q)"
   ]
  },
  {
   "cell_type": "code",
   "execution_count": null,
   "metadata": {},
   "outputs": [],
   "source": []
  }
 ],
 "metadata": {
  "kernelspec": {
   "display_name": "Python 3",
   "language": "python",
   "name": "python3"
  },
  "language_info": {
   "codemirror_mode": {
    "name": "ipython",
    "version": 3
   },
   "file_extension": ".py",
   "mimetype": "text/x-python",
   "name": "python",
   "nbconvert_exporter": "python",
   "pygments_lexer": "ipython3",
   "version": "3.7.4"
  }
 },
 "nbformat": 4,
 "nbformat_minor": 4
}
