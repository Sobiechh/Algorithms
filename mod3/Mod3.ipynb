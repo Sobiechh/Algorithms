{
 "cells": [
  {
   "cell_type": "markdown",
   "metadata": {},
   "source": [
    "# BFS"
   ]
  },
  {
   "cell_type": "code",
   "execution_count": 2,
   "metadata": {},
   "outputs": [
    {
     "name": "stdout",
     "output_type": "stream",
     "text": [
      "2 "
     ]
    }
   ],
   "source": [
    "from collections import defaultdict\n",
    "\n",
    "\n",
    "class Graph:\n",
    "    def __init__(self):\n",
    "        self.graph = defaultdict(list)\n",
    "\n",
    "    def addEdge(self, u, v):\n",
    "        self.graph[u].append(v)\n",
    "\n",
    "    def BFS(self, s):\n",
    "        visited = [False] * (len(self.graph))\n",
    "        queue = []\n",
    "        queue.append(s)\n",
    "        visited[s] = True\n",
    "        while queue:\n",
    "            s = queue.pop(0)\n",
    "            print(s, end=\" \")\n",
    "            for i in self.graph[s]:\n",
    "                if visited[i] == False:\n",
    "                    queue.append(i)\n",
    "                    visited[i] = True\n",
    "\n",
    "\n",
    "g = Graph()\n",
    "g.addEdge(0, 4)\n",
    "g.addEdge(0, 8)\n",
    "g.addEdge(4, 8)\n",
    "g.addEdge(8, 0)\n",
    "g.addEdge(8, 3)\n",
    "g.addEdge(3, 3)\n",
    "g.BFS(2)\n"
   ]
  },
  {
   "cell_type": "markdown",
   "metadata": {},
   "source": [
    "# DFS"
   ]
  },
  {
   "cell_type": "code",
   "execution_count": 3,
   "metadata": {},
   "outputs": [
    {
     "name": "stdout",
     "output_type": "stream",
     "text": [
      "A\n",
      "B\n",
      "D\n",
      "E\n",
      "F\n",
      "C\n"
     ]
    }
   ],
   "source": [
    "graph = {\"A\": [\"B\", \"C\"], \"B\": [\"D\", \"E\"], \"C\": [\"F\"], \"D\": [], \"E\": [\"F\"], \"F\": []}\n",
    "visited = set()\n",
    "\n",
    "\n",
    "def dfs(visited, graph, vertice):\n",
    "    if vertice not in visited:\n",
    "        print(vertice)\n",
    "        visited.add(vertice)\n",
    "        for neighbour in graph[vertice]:\n",
    "            dfs(visited, graph, neighbour)\n",
    "\n",
    "\n",
    "dfs(visited, graph, \"A\")"
   ]
  },
  {
   "cell_type": "markdown",
   "metadata": {},
   "source": [
    "# DIJSKTRA"
   ]
  },
  {
   "cell_type": "code",
   "execution_count": 7,
   "metadata": {},
   "outputs": [
    {
     "name": "stdout",
     "output_type": "stream",
     "text": [
      "Requirement already satisfied: networkx in c:\\users\\piotr\\appdata\\local\\programs\\python\\python37-32\\lib\\site-packages (2.4)\n",
      "Requirement already satisfied: decorator>=4.3.0 in c:\\users\\piotr\\appdata\\local\\programs\\python\\python37-32\\lib\\site-packages (from networkx) (4.4.1)\n"
     ]
    }
   ],
   "source": [
    "!pip install networkx"
   ]
  },
  {
   "cell_type": "code",
   "execution_count": 8,
   "metadata": {},
   "outputs": [
    {
     "name": "stdout",
     "output_type": "stream",
     "text": [
      "[0, 1, 2]\n",
      "{0: 0, 1: 1, 2: 2}\n",
      "{0: inf, 1: 1, 2: 2}\n",
      "{0: None, 1: 0, 2: 1}\n",
      "2\n"
     ]
    },
    {
     "data": {
      "image/png": "[encoded data removed]",
      "text/plain": [
       "<Figure size 432x288 with 1 Axes>"
      ]
     },
     "metadata": {},
     "output_type": "display_data"
    }
   ],
   "source": [
    "import networkx as nx\n",
    "import matplotlib.pyplot as plt\n",
    "\n",
    "\n",
    "def backtrace(parent, start, end):\n",
    "    path = [end]\n",
    "    while path[-1] != start:\n",
    "        path.append(parent[path[-1]])\n",
    "    path.reverse()\n",
    "    return path\n",
    "\n",
    "\n",
    "def dijkstra(graph, source, target):\n",
    "    queue = []\n",
    "    visited = {}\n",
    "    distance = {}\n",
    "    shortest_distance = {}\n",
    "    parent = {}\n",
    "    for vertice in range(len(graph)):\n",
    "        distance[vertice] = None\n",
    "        visited[vertice] = False\n",
    "        parent[vertice] = None\n",
    "        shortest_distance[vertice] = float(\"inf\")\n",
    "\n",
    "    queue.append(source)\n",
    "    distance[source] = 0\n",
    "    while len(queue) != 0:\n",
    "        current = queue.pop(0)\n",
    "        visited[current] = True\n",
    "        if current == target:\n",
    "            print(backtrace(parent, source, target))\n",
    "\n",
    "        for neighbor in graph[current]:\n",
    "            if visited[neighbor] == False:\n",
    "                distance[neighbor] = distance[current] + 1\n",
    "                if distance[neighbor] < shortest_distance[neighbor]:\n",
    "                    shortest_distance[neighbor] = distance[neighbor]\n",
    "                    parent[neighbor] = current\n",
    "                    queue.append(neighbor)\n",
    "    print(distance)\n",
    "    print(shortest_distance)\n",
    "    print(parent)\n",
    "    print(target)\n",
    "\n",
    "G = nx.Graph()\n",
    "G.add_weighted_edges_from([(0, 1, 0), (1, 2, 0)])\n",
    "dijkstra(G, 0, 2)\n",
    "nx.draw(G)\n",
    "plt.show()\n"
   ]
  },
  {
   "cell_type": "markdown",
   "metadata": {},
   "source": [
    "# FLOYD WARSHALL"
   ]
  },
  {
   "cell_type": "code",
   "execution_count": 10,
   "metadata": {},
   "outputs": [
    {
     "name": "stdout",
     "output_type": "stream",
     "text": [
      "[[0, 4, 0, -3], [13, 0, 11, 8], [3, 4, 0, -2], [5, 7, 3, 0]]\n"
     ]
    }
   ],
   "source": [
    "inf = 1e10\n",
    "\n",
    "\n",
    "def floyd_warshall(weights):\n",
    "    V = len(weights)\n",
    "    distance_matrix = weights\n",
    "    for k in range(V):\n",
    "        next_distance_matrix = [list(row) for row in distance_matrix]\n",
    "        for i in range(V):\n",
    "            for j in range(V):\n",
    "                next_distance_matrix[i][j] = min(\n",
    "                    distance_matrix[i][j], distance_matrix[i][k] + distance_matrix[k][j]\n",
    "                )\n",
    "        distance_matrix = next_distance_matrix\n",
    "    return distance_matrix\n",
    "\n",
    "\n",
    "graph = [[0, inf, inf, -3], [inf, 0, inf, 8], [inf, 4, 0, -2], [5, inf, 3, 0]]\n",
    "\n",
    "print(floyd_warshall(graph))\n"
   ]
  }
 ],
 "metadata": {
  "kernelspec": {
   "display_name": "Python 3",
   "language": "python",
   "name": "python3"
  },
  "language_info": {
   "codemirror_mode": {
    "name": "ipython",
    "version": 3
   },
   "file_extension": ".py",
   "mimetype": "text/x-python",
   "name": "python",
   "nbconvert_exporter": "python",
   "pygments_lexer": "ipython3",
   "version": "3.7.4"
  }
 },
 "nbformat": 4,
 "nbformat_minor": 4
}
